{
 "cells": [
  {
   "cell_type": "code",
   "execution_count": 1,
   "metadata": {},
   "outputs": [
    {
     "name": "stdout",
     "output_type": "stream",
     "text": [
      "updated\n",
      "{'author': 'kimchy', 'text': 'Elasticsearch: cool. bonsai cool.', 'timestamp': '2024-03-31T21:42:31.240796'}\n",
      "Got 1 hits:\n",
      "2024-03-31T21:42:31.240796 kimchy Elasticsearch: cool. bonsai cool.\n"
     ]
    }
   ],
   "source": [
    "from datetime import datetime\n",
    "from elasticsearch import Elasticsearch, ConnectionTimeout\n",
    "\n",
    "# Elasticsearch credentials\n",
    "username = \"elastic\"\n",
    "password = \"changeme\"\n",
    "\n",
    "# Establish connection to Elasticsearch with credentials and timeout\n",
    "es = Elasticsearch(\n",
    "    [\"http://localhost:9200\"],\n",
    "    basic_auth=(username, password),\n",
    "    request_timeout=30  # Timeout set to 30 seconds\n",
    ")\n",
    "\n",
    "# Create a document\n",
    "doc = {\n",
    "    \"author\": \"kimchy\",\n",
    "    \"text\": \"Elasticsearch: cool. bonsai cool.\",\n",
    "    \"timestamp\": datetime.now().isoformat()  # Convert to ISO 8601 format\n",
    "}\n",
    "\n",
    "# Index the document\n",
    "resp = es.index(index=\"test-index\", id=1, body=doc)\n",
    "print(resp[\"result\"])\n",
    "\n",
    "# Retrieve the indexed document\n",
    "resp = es.get(index=\"test-index\", id=1)\n",
    "print(resp[\"_source\"])\n",
    "\n",
    "# Refresh the index\n",
    "es.indices.refresh(index=\"test-index\")\n",
    "\n",
    "# Search for documents in the index\n",
    "resp = es.search(index=\"test-index\", body={\"query\": {\"match_all\": {}}})\n",
    "print(\"Got {} hits:\".format(resp[\"hits\"][\"total\"][\"value\"]))\n",
    "for hit in resp[\"hits\"][\"hits\"]:\n",
    "    print(\"{timestamp} {author} {text}\".format(**hit[\"_source\"]))"
   ]
  }
 ],
 "metadata": {
  "kernelspec": {
   "display_name": "my_elastic",
   "language": "python",
   "name": "python3"
  },
  "language_info": {
   "codemirror_mode": {
    "name": "ipython",
    "version": 3
   },
   "file_extension": ".py",
   "mimetype": "text/x-python",
   "name": "python",
   "nbconvert_exporter": "python",
   "pygments_lexer": "ipython3",
   "version": "3.10.14"
  }
 },
 "nbformat": 4,
 "nbformat_minor": 2
}
