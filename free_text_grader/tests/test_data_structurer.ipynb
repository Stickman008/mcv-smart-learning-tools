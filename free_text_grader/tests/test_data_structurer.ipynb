{
 "cells": [
  {
   "cell_type": "code",
   "execution_count": 8,
   "metadata": {},
   "outputs": [
    {
     "name": "stdout",
     "output_type": "stream",
     "text": [
      "The autoreload extension is already loaded. To reload it, use:\n",
      "  %reload_ext autoreload\n"
     ]
    }
   ],
   "source": [
    "%load_ext autoreload\n",
    "%autoreload 2"
   ]
  },
  {
   "cell_type": "code",
   "execution_count": 9,
   "metadata": {},
   "outputs": [],
   "source": [
    "import sys\n",
    "import pandas as pd\n",
    "\n",
    "sys.path.append(\"../\")\n",
    "from utils.data_utils import preprocess_score_df, preprocess_pattern_map_df\n",
    "from utils.data_structurer import DataStructurer"
   ]
  },
  {
   "cell_type": "code",
   "execution_count": 10,
   "metadata": {},
   "outputs": [],
   "source": [
    "score_df = pd.read_csv(\"../data/csa_score_1.csv\")\n",
    "pattern_map_df = pd.read_csv(\"../data/pattern_map.csv\")\n",
    "score_df = preprocess_score_df(score_df)\n",
    "pattern_map_df = preprocess_pattern_map_df(pattern_map_df)"
   ]
  },
  {
   "cell_type": "code",
   "execution_count": 11,
   "metadata": {},
   "outputs": [],
   "source": [
    "structurer = DataStructurer(score_df, pattern_map_df, 1122128, 10)"
   ]
  },
  {
   "cell_type": "code",
   "execution_count": 12,
   "metadata": {},
   "outputs": [
    {
     "data": {
      "text/plain": [
       "'Intel’s planned ISA, the 8800, failed to become the future which would last the lifetime of Intel. Explain briefly why it happened, and how the 8086 replaced it.'"
      ]
     },
     "execution_count": 12,
     "metadata": {},
     "output_type": "execute_result"
    }
   ],
   "source": [
    "structurer.get_question(\n",
    "    assignment_id=1122128, \n",
    "    question_number=10\n",
    "    )"
   ]
  },
  {
   "cell_type": "code",
   "execution_count": 13,
   "metadata": {},
   "outputs": [
    {
     "data": {
      "text/plain": [
       "['Explain why DSAs can achieve higher performance and greater energy efficiency',\n",
       " 'Explain why DSAs can achieve higher performance and greater energy efficiency (The reason why they launch 8806)',\n",
       " 'Explain the new version(8806) that make 8800 be dropped (Talk about why 8806 is better)',\n",
       " \"Explain the new version(8806) that make 8800 be dropped (Talk about 8800's performance issue)\"]"
      ]
     },
     "execution_count": 13,
     "metadata": {},
     "output_type": "execute_result"
    }
   ],
   "source": [
    "structurer.get_pattern(\n",
    "    assignment_id=1122128,\n",
    "    question_number=10,\n",
    "    pattern_number=-1\n",
    "    )"
   ]
  },
  {
   "cell_type": "code",
   "execution_count": 14,
   "metadata": {},
   "outputs": [
    {
     "data": {
      "text/plain": [
       "('Intel’s planned ISA, the 8800, failed to become the future which would last the lifetime of Intel. Explain briefly why it happened, and how the 8086 replaced it.',\n",
       " ['Explain why DSAs can achieve higher performance and greater energy efficiency',\n",
       "  'Explain why DSAs can achieve higher performance and greater energy efficiency (The reason why they launch 8806)',\n",
       "  'Explain the new version(8806) that make 8800 be dropped (Talk about why 8806 is better)',\n",
       "  \"Explain the new version(8806) that make 8800 be dropped (Talk about 8800's performance issue)\"])"
      ]
     },
     "execution_count": 14,
     "metadata": {},
     "output_type": "execute_result"
    }
   ],
   "source": [
    "structurer.question, structurer.pattern_list"
   ]
  },
  {
   "cell_type": "code",
   "execution_count": 16,
   "metadata": {},
   "outputs": [
    {
     "data": {
      "text/plain": [
       "count    146.000000\n",
       "mean       2.900685\n",
       "std        1.483960\n",
       "min        0.000000\n",
       "25%        2.000000\n",
       "50%        3.000000\n",
       "75%        4.000000\n",
       "max        5.000000\n",
       "Name: total_score, dtype: float64"
      ]
     },
     "execution_count": 16,
     "metadata": {},
     "output_type": "execute_result"
    }
   ],
   "source": [
    "structurer.score_df.total_score.describe()"
   ]
  },
  {
   "cell_type": "code",
   "execution_count": null,
   "metadata": {},
   "outputs": [],
   "source": []
  }
 ],
 "metadata": {
  "kernelspec": {
   "display_name": "torch2",
   "language": "python",
   "name": "python3"
  },
  "language_info": {
   "codemirror_mode": {
    "name": "ipython",
    "version": 3
   },
   "file_extension": ".py",
   "mimetype": "text/x-python",
   "name": "python",
   "nbconvert_exporter": "python",
   "pygments_lexer": "ipython3",
   "version": "3.11.5"
  }
 },
 "nbformat": 4,
 "nbformat_minor": 2
}
