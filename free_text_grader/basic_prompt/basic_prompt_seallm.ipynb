{
 "cells": [
  {
   "cell_type": "code",
   "execution_count": null,
   "metadata": {},
   "outputs": [],
   "source": [
    "import torch"
   ]
  },
  {
   "cell_type": "code",
   "execution_count": null,
   "metadata": {},
   "outputs": [],
   "source": [
    "# prompt = \"\"\"<|im_start|>system\n",
    "# You are a helpful assistant.</s>\n",
    "# <|im_start|>user\n",
    "# Hello world</s>\n",
    "# <|im_start|>assistant\n",
    "# Hi there, how can I help?</s>\n",
    "\n",
    "# # ! ENSURE 1 and only 1 bos `<s>` at the beginning of sequence\n",
    "# print(tokenizer.convert_ids_to_tokens(tokenizer.encode(prompt)))\n",
    "\n",
    "# ['<s>', '▁<', '|', 'im', '_', 'start', '|', '>', 'system', '<0x0A>', 'You', '▁are', '▁a', '▁helpful', '▁assistant', '.', '</s>', '▁', '<0x0A>', '<', '|', 'im', '_', 'start', '|', '>', 'user', '<0x0A>', 'Hello', '▁world', '</s>', '▁', '<0x0A>', '<', '|', 'im', '_', 'start', '|', '>', 'ass', 'istant', '<0x0A>', 'Hi', '▁there', ',', '▁how', '▁can', '▁I', '▁help', '?', '</s>', '▁', '<0x0A>']\n",
    "# \"\"\"\n"
   ]
  },
  {
   "cell_type": "code",
   "execution_count": null,
   "metadata": {},
   "outputs": [],
   "source": [
    "# from transformers import AutoModelForCausalLM, AutoTokenizer\n",
    "\n",
    "# # device = \"cuda\" # the device to load the model onto\n",
    "# device = \"cpu\"\n",
    "\n",
    "# # model = AutoModelForCausalLM.from_pretrained(\"SeaLLMs/SeaLLM-7B-v2\", torch_dtype=torch.bfloat16, device_map=device)\n",
    "# tokenizer = AutoTokenizer.from_pretrained(\"SeaLLMs/SeaLLM-7B-v2\")\n",
    "\n",
    "# model = AutoModelForCausalLM.from_pretrained(\n",
    "#     \"LoneStriker/SeaLLM-7B-v2-GGUF\", \n",
    "#     model_file=\"SeaLLM-7B-v2-Q8_0.gguf\",\n",
    "#     device_map=device\n",
    "# )\n",
    "# # tokenizer = AutoTokenizer.from_pretrained(\"LoneStriker/SeaLLM-7B-v2-GGUF\")\n",
    "\n",
    "# messages = [\n",
    "#     {\"role\": \"user\", \"content\": \"Hello world\"},\n",
    "#     {\"role\": \"assistant\", \"content\": \"Hi there, how can I help you today?\"},\n",
    "#     {\"role\": \"user\", \"content\": \"Explain general relativity in details.\"},\n",
    "# ]\n",
    "\n",
    "# encodeds = tokenizer.apply_chat_template(\n",
    "#     messages, return_tensors=\"pt\", add_generation_prompt=True\n",
    "# )\n",
    "# print(tokenizer.convert_ids_to_tokens(encodeds[0]))\n",
    "# # ['<s>', '▁<', '|', 'im', '_', 'start', '|', '>', 'user', '<0x0A>', 'Hello', '▁world', '</s>', '▁', '<0x0A>', '<', '|', 'im ....\n",
    "\n",
    "# model_inputs = encodeds.to(device)\n",
    "# model.to(device)\n",
    "\n",
    "# generated_ids = model.generate(\n",
    "#     model_inputs,\n",
    "#     max_new_tokens=1000,\n",
    "#     do_sample=True,\n",
    "#     pad_token_id=tokenizer.pad_token_id,\n",
    "# )\n",
    "# decoded = tokenizer.batch_decode(generated_ids)\n",
    "# print(decoded[0])"
   ]
  },
  {
   "cell_type": "code",
   "execution_count": null,
   "metadata": {},
   "outputs": [],
   "source": [
    "## Imports\n",
    "from huggingface_hub import hf_hub_download\n",
    "from llama_cpp import Llama\n",
    "\n",
    "## Download the GGUF model\n",
    "# model_name = \"TheBloke/Mixtral-8x7B-Instruct-v0.1-GGUF\"\n",
    "# model_file = \"mixtral-8x7b-instruct-v0.1.Q4_K_M.gguf\" # this is the specific model file we'll use in this example. It's a 4-bit quant, but other levels of quantization are available in the model repo if preferred\n",
    "model_name = \"LoneStriker/SeaLLM-7B-v2-GGUF\"\n",
    "model_file = \"SeaLLM-7B-v2-Q8_0.gguf\"\n",
    "model_path = hf_hub_download(model_name, filename=model_file)\n",
    "\n",
    "## Instantiate model from downloaded file\n",
    "llm = Llama(\n",
    "    model_path=model_path,\n",
    "    n_ctx=16000,  # Context length to use\n",
    "    n_threads=32,            # Number of CPU threads to use\n",
    "    n_gpu_layers=0        # Number of model layers to offload to GPU\n",
    ")\n",
    "\n",
    "## Generation kwargs\n",
    "generation_kwargs = {\n",
    "    \"max_tokens\":2000,\n",
    "    \"stop\":[\"</s>\"],\n",
    "    \"echo\":False, # Echo the prompt in the output\n",
    "    \"top_k\":1 # This is essentially greedy decoding, since the model will always return the highest-probability token. Set this value > 1 for sampling decoding\n",
    "}"
   ]
  },
  {
   "cell_type": "code",
   "execution_count": null,
   "metadata": {},
   "outputs": [],
   "source": [
    "## Run inference\n",
    "# prompt = \"The meaning of life is \"\n",
    "prompt = \"1+1=?\"\n",
    "res = llm(prompt, **generation_kwargs) # Res is a dictionary\n",
    "\n",
    "## Unpack and the generated text from the LLM response dictionary and print it\n",
    "print(res[\"choices\"][0][\"text\"])"
   ]
  }
 ],
 "metadata": {
  "kernelspec": {
   "display_name": "torch2",
   "language": "python",
   "name": "python3"
  },
  "language_info": {
   "codemirror_mode": {
    "name": "ipython",
    "version": 3
   },
   "file_extension": ".py",
   "mimetype": "text/x-python",
   "name": "python",
   "nbconvert_exporter": "python",
   "pygments_lexer": "ipython3",
   "version": "3.11.5"
  }
 },
 "nbformat": 4,
 "nbformat_minor": 2
}
