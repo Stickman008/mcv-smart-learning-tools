{
 "cells": [
  {
   "cell_type": "code",
   "execution_count": 3,
   "metadata": {},
   "outputs": [
    {
     "name": "stdout",
     "output_type": "stream",
     "text": [
      "กบร้องเพราะมันต้องการสื่อสารหรือแสดงอารมณ์บางอย่าง เช่น แสดงความเจ็บปวด, ความตื่นเต้น, หรือความอยากอาหาร กบอาจใช้เสียงร้องเพื่อดึงดูดคู่ครอง, แสดงขอบเขตของพื้นที่, หรือแม้แต่เพื่อสื่อสารกับกบตัวอื่นในกลุ่มของมัน\n"
     ]
    }
   ],
   "source": [
    "# Example: reuse your existing OpenAI setup\n",
    "from openai import OpenAI\n",
    "\n",
    "# Point to the local server\n",
    "client = OpenAI(base_url=\"http://localhost:1234/v1\", api_key=\"not-needed\")\n",
    "\n",
    "completion = client.chat.completions.create(\n",
    "  model=\"local-model\", # this field is currently unused\n",
    "  messages=[\n",
    "    {\"role\": \"system\", \"content\": \"Answer with precise answer.\"},\n",
    "    {\"role\": \"user\", \"content\": \"ทำไมกบร้อง\"}\n",
    "  ],\n",
    "  temperature=0.0,\n",
    ")\n",
    "\n",
    "print(completion.choices[0].message.content)"
   ]
  }
 ],
 "metadata": {
  "kernelspec": {
   "display_name": "torch2",
   "language": "python",
   "name": "python3"
  },
  "language_info": {
   "codemirror_mode": {
    "name": "ipython",
    "version": 3
   },
   "file_extension": ".py",
   "mimetype": "text/x-python",
   "name": "python",
   "nbconvert_exporter": "python",
   "pygments_lexer": "ipython3",
   "version": "3.11.5"
  }
 },
 "nbformat": 4,
 "nbformat_minor": 2
}
