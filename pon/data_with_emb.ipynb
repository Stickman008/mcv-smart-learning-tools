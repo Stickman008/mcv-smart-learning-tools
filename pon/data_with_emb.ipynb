{
 "cells": [
  {
   "cell_type": "code",
   "execution_count": 1,
   "metadata": {},
   "outputs": [],
   "source": [
    "import seaborn as sns\n",
    "import pandas as pd\n",
    "import matplotlib.pyplot as plt\n",
    "import torch\n",
    "import numpy as np\n",
    "from tqdm.auto import tqdm\n",
    "from sentence_transformers import SentenceTransformer\n",
    "import sys"
   ]
  },
  {
   "cell_type": "code",
   "execution_count": 2,
   "metadata": {},
   "outputs": [],
   "source": [
    "model_name = 'sentence-transformers/paraphrase-multilingual-mpnet-base-v2'\n",
    "max_seq_length=128\n",
    "model = SentenceTransformer(model_name)\n",
    "model.max_seq_length = max_seq_length"
   ]
  },
  {
   "cell_type": "code",
   "execution_count": 3,
   "metadata": {},
   "outputs": [],
   "source": [
    "sys.path.append(\"../\")\n",
    "from evaluation.metrics import hit_k, mean_hit_k, average_precision_k, mean_average_precision_k\n",
    "from utils.constants import TRANSCRIPT_COL\n",
    "from utils.helpers import extract_query_from_df\n",
    "import time\n",
    "from tqdm.auto import tqdm\n",
    "from sentence_transformers import util"
   ]
  },
  {
   "cell_type": "code",
   "execution_count": 4,
   "metadata": {},
   "outputs": [
    {
     "data": {
      "application/vnd.jupyter.widget-view+json": {
       "model_id": "a6dc31cbc35c4865b1897c2186970dda",
       "version_major": 2,
       "version_minor": 0
      },
      "text/plain": [
       "Batches:   0%|          | 0/5 [00:00<?, ?it/s]"
      ]
     },
     "metadata": {},
     "output_type": "display_data"
    },
    {
     "data": {
      "application/vnd.jupyter.widget-view+json": {
       "model_id": "76cd2893926744f3bf8764dd0f93d891",
       "version_major": 2,
       "version_minor": 0
      },
      "text/plain": [
       "Batches:   0%|          | 0/5 [00:00<?, ?it/s]"
      ]
     },
     "metadata": {},
     "output_type": "display_data"
    },
    {
     "data": {
      "application/vnd.jupyter.widget-view+json": {
       "model_id": "0c5606a1dba6475898caf3864266f402",
       "version_major": 2,
       "version_minor": 0
      },
      "text/plain": [
       "Batches:   0%|          | 0/4 [00:00<?, ?it/s]"
      ]
     },
     "metadata": {},
     "output_type": "display_data"
    },
    {
     "data": {
      "application/vnd.jupyter.widget-view+json": {
       "model_id": "9fb741e41b74424cae69a27a55b9a5ff",
       "version_major": 2,
       "version_minor": 0
      },
      "text/plain": [
       "Batches:   0%|          | 0/7 [00:00<?, ?it/s]"
      ]
     },
     "metadata": {},
     "output_type": "display_data"
    },
    {
     "data": {
      "application/vnd.jupyter.widget-view+json": {
       "model_id": "1c5ebc30a0e04790bb119c9955e397ed",
       "version_major": 2,
       "version_minor": 0
      },
      "text/plain": [
       "Batches:   0%|          | 0/5 [00:00<?, ?it/s]"
      ]
     },
     "metadata": {},
     "output_type": "display_data"
    },
    {
     "data": {
      "application/vnd.jupyter.widget-view+json": {
       "model_id": "a475094736fd47d299b15acfc638ac8e",
       "version_major": 2,
       "version_minor": 0
      },
      "text/plain": [
       "Batches:   0%|          | 0/7 [00:00<?, ?it/s]"
      ]
     },
     "metadata": {},
     "output_type": "display_data"
    },
    {
     "data": {
      "application/vnd.jupyter.widget-view+json": {
       "model_id": "ea2717ae46874dd7a3f4d796133cfb0a",
       "version_major": 2,
       "version_minor": 0
      },
      "text/plain": [
       "Batches:   0%|          | 0/6 [00:00<?, ?it/s]"
      ]
     },
     "metadata": {},
     "output_type": "display_data"
    },
    {
     "data": {
      "application/vnd.jupyter.widget-view+json": {
       "model_id": "f61124a2e50346ab8a5af2d60db8b2f9",
       "version_major": 2,
       "version_minor": 0
      },
      "text/plain": [
       "Batches:   0%|          | 0/5 [00:00<?, ?it/s]"
      ]
     },
     "metadata": {},
     "output_type": "display_data"
    },
    {
     "data": {
      "application/vnd.jupyter.widget-view+json": {
       "model_id": "5ccaad202f8e4e7fa9488f5fe4afa0ed",
       "version_major": 2,
       "version_minor": 0
      },
      "text/plain": [
       "Batches:   0%|          | 0/4 [00:00<?, ?it/s]"
      ]
     },
     "metadata": {},
     "output_type": "display_data"
    }
   ],
   "source": [
    "for i in range(1,10):\n",
    "    filename = f\"./data/labeled/labeled_transcript_0{i}.csv\"\n",
    "    labeled_df = pd.read_csv(filename, index_col=0)\n",
    "    query_dict = extract_query_from_df(labeled_df)\n",
    "    corpus_embeddings = labeled_df[TRANSCRIPT_COL]\n",
    "    corpus_embeddings = model.encode(\n",
    "        corpus_embeddings, convert_to_tensor=False, show_progress_bar=True\n",
    "        )\n",
    "    labeled_df['embeddings'] = list(corpus_embeddings)\n",
    "    labeled_df.to_csv(f\"./data/encoded/encoded_transcript_0{i}.csv\")"
   ]
  },
  {
   "cell_type": "code",
   "execution_count": 5,
   "metadata": {},
   "outputs": [],
   "source": [
    "for i in range(1,10):\n",
    "    filename = f\"./data/encoded/encoded_transcript_0{i}.csv\"\n",
    "    labeled_df = pd.read_csv(filename, index_col=0)\n",
    "    labeled_df[['text','start_time','stop_time','embeddings']].to_csv(filename)"
   ]
  },
  {
   "cell_type": "code",
   "execution_count": 6,
   "metadata": {},
   "outputs": [
    {
     "data": {
      "text/html": [
       "<div>\n",
       "<style scoped>\n",
       "    .dataframe tbody tr th:only-of-type {\n",
       "        vertical-align: middle;\n",
       "    }\n",
       "\n",
       "    .dataframe tbody tr th {\n",
       "        vertical-align: top;\n",
       "    }\n",
       "\n",
       "    .dataframe thead th {\n",
       "        text-align: right;\n",
       "    }\n",
       "</style>\n",
       "<table border=\"1\" class=\"dataframe\">\n",
       "  <thead>\n",
       "    <tr style=\"text-align: right;\">\n",
       "      <th></th>\n",
       "      <th>text</th>\n",
       "      <th>edited_text</th>\n",
       "      <th>start_time</th>\n",
       "      <th>stop_time</th>\n",
       "      <th>total_time</th>\n",
       "      <th>token_count</th>\n",
       "      <th>keyword_simplex algorithm</th>\n",
       "      <th>keyword_ratio test</th>\n",
       "      <th>keyword_non degenerate</th>\n",
       "      <th>keyword_Big M</th>\n",
       "      <th>keyword_Two phase</th>\n",
       "      <th>question_basic solution ต่างจาก basic feasible solution อย่างไร</th>\n",
       "      <th>question_หา extreme point อย่างไร</th>\n",
       "      <th>question_วิธีการ move adjacent bfs</th>\n",
       "      <th>question_ความแตกต่างระหว่าง degenerate และ nondegenerate</th>\n",
       "      <th>question__ตัวอย่างการคำนวณ two phase</th>\n",
       "      <th>embeddings</th>\n",
       "    </tr>\n",
       "  </thead>\n",
       "  <tbody>\n",
       "    <tr>\n",
       "      <th>0</th>\n",
       "      <td>ได้นั่งทำอยู่นะมีข่าวปีนึง ปีที่แล้วมันใจหน้าอ...</td>\n",
       "      <td>อ่าวเป็นไปได้ China ASA นั่งทำอยู่นะ เอ้ย มีข่...</td>\n",
       "      <td>2024-01-17 0:00:00</td>\n",
       "      <td>2024-01-17 0:02:23</td>\n",
       "      <td>41798</td>\n",
       "      <td>121</td>\n",
       "      <td>0</td>\n",
       "      <td>0</td>\n",
       "      <td>0</td>\n",
       "      <td>0</td>\n",
       "      <td>0</td>\n",
       "      <td>0</td>\n",
       "      <td>0</td>\n",
       "      <td>0</td>\n",
       "      <td>0</td>\n",
       "      <td>0</td>\n",
       "      <td>[ 4.12719138e-02  1.51306570e-01 -1.60484724e-...</td>\n",
       "    </tr>\n",
       "    <tr>\n",
       "      <th>1</th>\n",
       "      <td>อะไรมันก็ได้แต่ว่าพอเขาจะไปขายที่อื่นหาว่าเขาไ...</td>\n",
       "      <td>เขาถ้าเขาขายในประเทศเขาไม่มีปัญหาด้านการละเมิด...</td>\n",
       "      <td>2024-01-17 0:02:23</td>\n",
       "      <td>2024-01-17 0:03:20</td>\n",
       "      <td>28976</td>\n",
       "      <td>113</td>\n",
       "      <td>0</td>\n",
       "      <td>0</td>\n",
       "      <td>0</td>\n",
       "      <td>0</td>\n",
       "      <td>0</td>\n",
       "      <td>0</td>\n",
       "      <td>0</td>\n",
       "      <td>0</td>\n",
       "      <td>0</td>\n",
       "      <td>0</td>\n",
       "      <td>[ 4.69051562e-02  2.42383972e-01 -1.39509793e-...</td>\n",
       "    </tr>\n",
       "    <tr>\n",
       "      <th>2</th>\n",
       "      <td>โอเควันก่อนเราพูดถึงอะไรไปบ้างไหมเราก็พูดถึงว่...</td>\n",
       "      <td>โอเค ก็ครั้งก่อนเราพูดถึงอะไรไปบ้าง เราก็พูดถึ...</td>\n",
       "      <td>2024-01-17 0:03:21</td>\n",
       "      <td>2024-01-17 0:04:04</td>\n",
       "      <td>34848</td>\n",
       "      <td>119</td>\n",
       "      <td>0</td>\n",
       "      <td>0</td>\n",
       "      <td>0</td>\n",
       "      <td>0</td>\n",
       "      <td>0</td>\n",
       "      <td>0</td>\n",
       "      <td>0</td>\n",
       "      <td>0</td>\n",
       "      <td>0</td>\n",
       "      <td>0</td>\n",
       "      <td>[ 4.95197326e-02 -9.10010561e-02 -1.22688087e-...</td>\n",
       "    </tr>\n",
       "    <tr>\n",
       "      <th>3</th>\n",
       "      <td>มุมจากมุมซึ่งเราก็บอกว่าห้า ถ้า inage program ...</td>\n",
       "      <td>ถ้า Linear program มี Solution อย่างน้อย Extre...</td>\n",
       "      <td>2024-01-17 0:04:05</td>\n",
       "      <td>2024-01-17 0:04:52</td>\n",
       "      <td>40614</td>\n",
       "      <td>125</td>\n",
       "      <td>0</td>\n",
       "      <td>0</td>\n",
       "      <td>0</td>\n",
       "      <td>0</td>\n",
       "      <td>0</td>\n",
       "      <td>0</td>\n",
       "      <td>0</td>\n",
       "      <td>0</td>\n",
       "      <td>0</td>\n",
       "      <td>0</td>\n",
       "      <td>[ 2.83764433e-02 -1.64851546e-01 -9.49407835e-...</td>\n",
       "    </tr>\n",
       "    <tr>\n",
       "      <th>4</th>\n",
       "      <td>คือแบบมีเอ็กซ์ตัวแปรเอ็กซ์หนึ่งที่เป็นแบบสมาชิ...</td>\n",
       "      <td>คือแบบมี X ตัวแปร X หนึ่งที่เป็นแบบสมาชิกของ R...</td>\n",
       "      <td>2024-01-17 0:04:53</td>\n",
       "      <td>2024-01-17 0:05:32</td>\n",
       "      <td>32812</td>\n",
       "      <td>114</td>\n",
       "      <td>0</td>\n",
       "      <td>0</td>\n",
       "      <td>0</td>\n",
       "      <td>0</td>\n",
       "      <td>0</td>\n",
       "      <td>0</td>\n",
       "      <td>0</td>\n",
       "      <td>0</td>\n",
       "      <td>0</td>\n",
       "      <td>0</td>\n",
       "      <td>[ 6.59557385e-03 -5.84768876e-02 -9.73031018e-...</td>\n",
       "    </tr>\n",
       "    <tr>\n",
       "      <th>...</th>\n",
       "      <td>...</td>\n",
       "      <td>...</td>\n",
       "      <td>...</td>\n",
       "      <td>...</td>\n",
       "      <td>...</td>\n",
       "      <td>...</td>\n",
       "      <td>...</td>\n",
       "      <td>...</td>\n",
       "      <td>...</td>\n",
       "      <td>...</td>\n",
       "      <td>...</td>\n",
       "      <td>...</td>\n",
       "      <td>...</td>\n",
       "      <td>...</td>\n",
       "      <td>...</td>\n",
       "      <td>...</td>\n",
       "      <td>...</td>\n",
       "    </tr>\n",
       "    <tr>\n",
       "      <th>118</th>\n",
       "      <td>ถ้าเรามี extreme point สองจุด ที่เป็นออฟฟิมมัน...</td>\n",
       "      <td>extreme point สองจุด ที่เป็น optimal มันจะเป็น...</td>\n",
       "      <td>2024-01-17 2:05:34</td>\n",
       "      <td>2024-01-17 2:06:22</td>\n",
       "      <td>33932</td>\n",
       "      <td>124</td>\n",
       "      <td>0</td>\n",
       "      <td>0</td>\n",
       "      <td>0</td>\n",
       "      <td>0</td>\n",
       "      <td>0</td>\n",
       "      <td>0</td>\n",
       "      <td>0</td>\n",
       "      <td>0</td>\n",
       "      <td>0</td>\n",
       "      <td>0</td>\n",
       "      <td>[ 4.95839603e-02 -1.11173861e-01 -1.11900391e-...</td>\n",
       "    </tr>\n",
       "    <tr>\n",
       "      <th>119</th>\n",
       "      <td>ซึ่งจริงจริงแล้วคือ เราจะรู้ว่าโจทย์นี้ andou ...</td>\n",
       "      <td>เราจะรู้ว่าโจทย์นี้ unbounded ก็คือตอนที่เราจะ...</td>\n",
       "      <td>2024-01-17 2:06:23</td>\n",
       "      <td>2024-01-17 2:07:02</td>\n",
       "      <td>32004</td>\n",
       "      <td>123</td>\n",
       "      <td>0</td>\n",
       "      <td>0</td>\n",
       "      <td>0</td>\n",
       "      <td>0</td>\n",
       "      <td>0</td>\n",
       "      <td>0</td>\n",
       "      <td>0</td>\n",
       "      <td>0</td>\n",
       "      <td>0</td>\n",
       "      <td>0</td>\n",
       "      <td>[ 3.05206664e-02  2.63257921e-01 -1.13974912e-...</td>\n",
       "    </tr>\n",
       "    <tr>\n",
       "      <th>120</th>\n",
       "      <td>นะครับมีคำถามไหมวันนี้ก็จบแล้วประมาณนี้ วันศุก...</td>\n",
       "      <td>วันศุกร์เราไม่มีเรียน  เดี๋ยวเจอกันจันทร์หน้า ...</td>\n",
       "      <td>2024-01-17 2:07:03</td>\n",
       "      <td>2024-01-17 2:07:46</td>\n",
       "      <td>29486</td>\n",
       "      <td>112</td>\n",
       "      <td>0</td>\n",
       "      <td>0</td>\n",
       "      <td>0</td>\n",
       "      <td>0</td>\n",
       "      <td>0</td>\n",
       "      <td>0</td>\n",
       "      <td>0</td>\n",
       "      <td>0</td>\n",
       "      <td>0</td>\n",
       "      <td>0</td>\n",
       "      <td>[ 5.20039648e-02  2.10575331e-02 -1.27327135e-...</td>\n",
       "    </tr>\n",
       "    <tr>\n",
       "      <th>121</th>\n",
       "      <td>เป็น picture ปุ๊บจินตนาการคุณทำดีผมคือทุกครั้ง...</td>\n",
       "      <td>พอเป็น integer ปุ๊บ จินตนาการคุณทำ divide &amp; co...</td>\n",
       "      <td>2024-01-17 2:07:49</td>\n",
       "      <td>2024-01-17 2:08:48</td>\n",
       "      <td>32284</td>\n",
       "      <td>118</td>\n",
       "      <td>0</td>\n",
       "      <td>0</td>\n",
       "      <td>0</td>\n",
       "      <td>0</td>\n",
       "      <td>0</td>\n",
       "      <td>0</td>\n",
       "      <td>0</td>\n",
       "      <td>0</td>\n",
       "      <td>0</td>\n",
       "      <td>0</td>\n",
       "      <td>[-6.21813955e-03  9.93036479e-02 -1.62178986e-...</td>\n",
       "    </tr>\n",
       "    <tr>\n",
       "      <th>122</th>\n",
       "      <td>แล้วก็เรื่อง definition ป้ารอต่างต่างคอนเน็ตคื...</td>\n",
       "      <td>NaN</td>\n",
       "      <td>2024-01-17 2:08:52</td>\n",
       "      <td>2024-01-17 2:10:47</td>\n",
       "      <td>37596</td>\n",
       "      <td>99</td>\n",
       "      <td>0</td>\n",
       "      <td>0</td>\n",
       "      <td>0</td>\n",
       "      <td>0</td>\n",
       "      <td>0</td>\n",
       "      <td>0</td>\n",
       "      <td>0</td>\n",
       "      <td>0</td>\n",
       "      <td>0</td>\n",
       "      <td>0</td>\n",
       "      <td>[-3.52111645e-02 -1.76089361e-01 -1.11350687e-...</td>\n",
       "    </tr>\n",
       "  </tbody>\n",
       "</table>\n",
       "<p>123 rows × 17 columns</p>\n",
       "</div>"
      ],
      "text/plain": [
       "                                                  text  \\\n",
       "0    ได้นั่งทำอยู่นะมีข่าวปีนึง ปีที่แล้วมันใจหน้าอ...   \n",
       "1    อะไรมันก็ได้แต่ว่าพอเขาจะไปขายที่อื่นหาว่าเขาไ...   \n",
       "2    โอเควันก่อนเราพูดถึงอะไรไปบ้างไหมเราก็พูดถึงว่...   \n",
       "3    มุมจากมุมซึ่งเราก็บอกว่าห้า ถ้า inage program ...   \n",
       "4    คือแบบมีเอ็กซ์ตัวแปรเอ็กซ์หนึ่งที่เป็นแบบสมาชิ...   \n",
       "..                                                 ...   \n",
       "118  ถ้าเรามี extreme point สองจุด ที่เป็นออฟฟิมมัน...   \n",
       "119  ซึ่งจริงจริงแล้วคือ เราจะรู้ว่าโจทย์นี้ andou ...   \n",
       "120  นะครับมีคำถามไหมวันนี้ก็จบแล้วประมาณนี้ วันศุก...   \n",
       "121  เป็น picture ปุ๊บจินตนาการคุณทำดีผมคือทุกครั้ง...   \n",
       "122  แล้วก็เรื่อง definition ป้ารอต่างต่างคอนเน็ตคื...   \n",
       "\n",
       "                                           edited_text          start_time  \\\n",
       "0    อ่าวเป็นไปได้ China ASA นั่งทำอยู่นะ เอ้ย มีข่...  2024-01-17 0:00:00   \n",
       "1    เขาถ้าเขาขายในประเทศเขาไม่มีปัญหาด้านการละเมิด...  2024-01-17 0:02:23   \n",
       "2    โอเค ก็ครั้งก่อนเราพูดถึงอะไรไปบ้าง เราก็พูดถึ...  2024-01-17 0:03:21   \n",
       "3    ถ้า Linear program มี Solution อย่างน้อย Extre...  2024-01-17 0:04:05   \n",
       "4    คือแบบมี X ตัวแปร X หนึ่งที่เป็นแบบสมาชิกของ R...  2024-01-17 0:04:53   \n",
       "..                                                 ...                 ...   \n",
       "118  extreme point สองจุด ที่เป็น optimal มันจะเป็น...  2024-01-17 2:05:34   \n",
       "119  เราจะรู้ว่าโจทย์นี้ unbounded ก็คือตอนที่เราจะ...  2024-01-17 2:06:23   \n",
       "120  วันศุกร์เราไม่มีเรียน  เดี๋ยวเจอกันจันทร์หน้า ...  2024-01-17 2:07:03   \n",
       "121  พอเป็น integer ปุ๊บ จินตนาการคุณทำ divide & co...  2024-01-17 2:07:49   \n",
       "122                                                NaN  2024-01-17 2:08:52   \n",
       "\n",
       "              stop_time  total_time  token_count  keyword_simplex algorithm  \\\n",
       "0    2024-01-17 0:02:23       41798          121                          0   \n",
       "1    2024-01-17 0:03:20       28976          113                          0   \n",
       "2    2024-01-17 0:04:04       34848          119                          0   \n",
       "3    2024-01-17 0:04:52       40614          125                          0   \n",
       "4    2024-01-17 0:05:32       32812          114                          0   \n",
       "..                  ...         ...          ...                        ...   \n",
       "118  2024-01-17 2:06:22       33932          124                          0   \n",
       "119  2024-01-17 2:07:02       32004          123                          0   \n",
       "120  2024-01-17 2:07:46       29486          112                          0   \n",
       "121  2024-01-17 2:08:48       32284          118                          0   \n",
       "122  2024-01-17 2:10:47       37596           99                          0   \n",
       "\n",
       "     keyword_ratio test  keyword_non degenerate  keyword_Big M  \\\n",
       "0                     0                       0              0   \n",
       "1                     0                       0              0   \n",
       "2                     0                       0              0   \n",
       "3                     0                       0              0   \n",
       "4                     0                       0              0   \n",
       "..                  ...                     ...            ...   \n",
       "118                   0                       0              0   \n",
       "119                   0                       0              0   \n",
       "120                   0                       0              0   \n",
       "121                   0                       0              0   \n",
       "122                   0                       0              0   \n",
       "\n",
       "     keyword_Two phase  \\\n",
       "0                    0   \n",
       "1                    0   \n",
       "2                    0   \n",
       "3                    0   \n",
       "4                    0   \n",
       "..                 ...   \n",
       "118                  0   \n",
       "119                  0   \n",
       "120                  0   \n",
       "121                  0   \n",
       "122                  0   \n",
       "\n",
       "     question_basic solution ต่างจาก basic feasible solution อย่างไร  \\\n",
       "0                                                    0                 \n",
       "1                                                    0                 \n",
       "2                                                    0                 \n",
       "3                                                    0                 \n",
       "4                                                    0                 \n",
       "..                                                 ...                 \n",
       "118                                                  0                 \n",
       "119                                                  0                 \n",
       "120                                                  0                 \n",
       "121                                                  0                 \n",
       "122                                                  0                 \n",
       "\n",
       "     question_หา extreme point อย่างไร  question_วิธีการ move adjacent bfs  \\\n",
       "0                                    0                                   0   \n",
       "1                                    0                                   0   \n",
       "2                                    0                                   0   \n",
       "3                                    0                                   0   \n",
       "4                                    0                                   0   \n",
       "..                                 ...                                 ...   \n",
       "118                                  0                                   0   \n",
       "119                                  0                                   0   \n",
       "120                                  0                                   0   \n",
       "121                                  0                                   0   \n",
       "122                                  0                                   0   \n",
       "\n",
       "     question_ความแตกต่างระหว่าง degenerate และ nondegenerate  \\\n",
       "0                                                    0          \n",
       "1                                                    0          \n",
       "2                                                    0          \n",
       "3                                                    0          \n",
       "4                                                    0          \n",
       "..                                                 ...          \n",
       "118                                                  0          \n",
       "119                                                  0          \n",
       "120                                                  0          \n",
       "121                                                  0          \n",
       "122                                                  0          \n",
       "\n",
       "     question__ตัวอย่างการคำนวณ two phase  \\\n",
       "0                                       0   \n",
       "1                                       0   \n",
       "2                                       0   \n",
       "3                                       0   \n",
       "4                                       0   \n",
       "..                                    ...   \n",
       "118                                     0   \n",
       "119                                     0   \n",
       "120                                     0   \n",
       "121                                     0   \n",
       "122                                     0   \n",
       "\n",
       "                                            embeddings  \n",
       "0    [ 4.12719138e-02  1.51306570e-01 -1.60484724e-...  \n",
       "1    [ 4.69051562e-02  2.42383972e-01 -1.39509793e-...  \n",
       "2    [ 4.95197326e-02 -9.10010561e-02 -1.22688087e-...  \n",
       "3    [ 2.83764433e-02 -1.64851546e-01 -9.49407835e-...  \n",
       "4    [ 6.59557385e-03 -5.84768876e-02 -9.73031018e-...  \n",
       "..                                                 ...  \n",
       "118  [ 4.95839603e-02 -1.11173861e-01 -1.11900391e-...  \n",
       "119  [ 3.05206664e-02  2.63257921e-01 -1.13974912e-...  \n",
       "120  [ 5.20039648e-02  2.10575331e-02 -1.27327135e-...  \n",
       "121  [-6.21813955e-03  9.93036479e-02 -1.62178986e-...  \n",
       "122  [-3.52111645e-02 -1.76089361e-01 -1.11350687e-...  \n",
       "\n",
       "[123 rows x 17 columns]"
      ]
     },
     "execution_count": 6,
     "metadata": {},
     "output_type": "execute_result"
    }
   ],
   "source": [
    "labeled_df"
   ]
  },
  {
   "cell_type": "code",
   "execution_count": 7,
   "metadata": {},
   "outputs": [
    {
     "data": {
      "text/plain": [
       "(123, 768)"
      ]
     },
     "execution_count": 7,
     "metadata": {},
     "output_type": "execute_result"
    }
   ],
   "source": [
    "corpus_embeddings.shape"
   ]
  }
 ],
 "metadata": {
  "kernelspec": {
   "display_name": "pytorch",
   "language": "python",
   "name": "python3"
  },
  "language_info": {
   "codemirror_mode": {
    "name": "ipython",
    "version": 3
   },
   "file_extension": ".py",
   "mimetype": "text/x-python",
   "name": "python",
   "nbconvert_exporter": "python",
   "pygments_lexer": "ipython3",
   "version": "3.10.14"
  }
 },
 "nbformat": 4,
 "nbformat_minor": 2
}
