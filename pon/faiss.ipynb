{
 "cells": [
  {
   "cell_type": "code",
   "execution_count": 1,
   "metadata": {},
   "outputs": [],
   "source": [
    "import faiss\n",
    "from faiss import write_index, read_index\n"
   ]
  },
  {
   "cell_type": "code",
   "execution_count": 2,
   "metadata": {},
   "outputs": [],
   "source": [
    "import numpy as np\n",
    "import pandas as pd\n",
    "import os\n",
    "import time"
   ]
  },
  {
   "cell_type": "code",
   "execution_count": 3,
   "metadata": {},
   "outputs": [
    {
     "data": {
      "text/html": [
       "<div>\n",
       "<style scoped>\n",
       "    .dataframe tbody tr th:only-of-type {\n",
       "        vertical-align: middle;\n",
       "    }\n",
       "\n",
       "    .dataframe tbody tr th {\n",
       "        vertical-align: top;\n",
       "    }\n",
       "\n",
       "    .dataframe thead th {\n",
       "        text-align: right;\n",
       "    }\n",
       "</style>\n",
       "<table border=\"1\" class=\"dataframe\">\n",
       "  <thead>\n",
       "    <tr style=\"text-align: right;\">\n",
       "      <th></th>\n",
       "      <th>text</th>\n",
       "      <th>start_time</th>\n",
       "      <th>stop_time</th>\n",
       "      <th>embeddings</th>\n",
       "    </tr>\n",
       "  </thead>\n",
       "  <tbody>\n",
       "    <tr>\n",
       "      <th>0</th>\n",
       "      <td>จุดจุดจุด อ่ะก่อนอื่น คนเรือง เลือดสำคัญต่อก็ค...</td>\n",
       "      <td>2023-12-25 0:00:04</td>\n",
       "      <td>2023-12-25 0:01:13</td>\n",
       "      <td>[ 3.20836790e-02  8.82582888e-02 -1.68851633e-...</td>\n",
       "    </tr>\n",
       "    <tr>\n",
       "      <th>1</th>\n",
       "      <td>คือเราวิชาแบกในสามส่วนแล้วมันก็ตอบแล้วมันก็สลา...</td>\n",
       "      <td>2023-12-25 0:01:15</td>\n",
       "      <td>2023-12-25 0:02:09</td>\n",
       "      <td>[ 6.50551766e-02  1.55494493e-02 -1.16257565e-...</td>\n",
       "    </tr>\n",
       "    <tr>\n",
       "      <th>2</th>\n",
       "      <td>ภายนอกก็คือจะตอบส่วนสไตล์วิชา เอ่อ น้อง อ่านหน...</td>\n",
       "      <td>2023-12-25 0:02:10</td>\n",
       "      <td>2023-12-25 0:03:17</td>\n",
       "      <td>[ 3.14746313e-02  1.31374389e-01 -1.45527218e-...</td>\n",
       "    </tr>\n",
       "    <tr>\n",
       "      <th>3</th>\n",
       "      <td>มี tina อย่างเดียว สองเจ็ด สลายสามารถโดนความรู...</td>\n",
       "      <td>2023-12-25 0:03:17</td>\n",
       "      <td>2023-12-25 0:04:14</td>\n",
       "      <td>[ 6.46190867e-02  9.32341069e-02 -1.23647125e-...</td>\n",
       "    </tr>\n",
       "    <tr>\n",
       "      <th>4</th>\n",
       "      <td>โอ๊ตลูกแตะลูกอาจารย์อิรักสักคนนึงแปะมาขนาด เอ่...</td>\n",
       "      <td>2023-12-25 0:04:17</td>\n",
       "      <td>2023-12-25 0:05:09</td>\n",
       "      <td>[ 1.27054388e-02 -1.97878495e-01 -1.13094635e-...</td>\n",
       "    </tr>\n",
       "  </tbody>\n",
       "</table>\n",
       "</div>"
      ],
      "text/plain": [
       "                                                text          start_time  \\\n",
       "0  จุดจุดจุด อ่ะก่อนอื่น คนเรือง เลือดสำคัญต่อก็ค...  2023-12-25 0:00:04   \n",
       "1  คือเราวิชาแบกในสามส่วนแล้วมันก็ตอบแล้วมันก็สลา...  2023-12-25 0:01:15   \n",
       "2  ภายนอกก็คือจะตอบส่วนสไตล์วิชา เอ่อ น้อง อ่านหน...  2023-12-25 0:02:10   \n",
       "3  มี tina อย่างเดียว สองเจ็ด สลายสามารถโดนความรู...  2023-12-25 0:03:17   \n",
       "4  โอ๊ตลูกแตะลูกอาจารย์อิรักสักคนนึงแปะมาขนาด เอ่...  2023-12-25 0:04:17   \n",
       "\n",
       "            stop_time                                         embeddings  \n",
       "0  2023-12-25 0:01:13  [ 3.20836790e-02  8.82582888e-02 -1.68851633e-...  \n",
       "1  2023-12-25 0:02:09  [ 6.50551766e-02  1.55494493e-02 -1.16257565e-...  \n",
       "2  2023-12-25 0:03:17  [ 3.14746313e-02  1.31374389e-01 -1.45527218e-...  \n",
       "3  2023-12-25 0:04:14  [ 6.46190867e-02  9.32341069e-02 -1.23647125e-...  \n",
       "4  2023-12-25 0:05:09  [ 1.27054388e-02 -1.97878495e-01 -1.13094635e-...  "
      ]
     },
     "execution_count": 3,
     "metadata": {},
     "output_type": "execute_result"
    }
   ],
   "source": [
    "filename = '.\\data\\encoded\\encoded_transcript_01.csv'\n",
    "df = pd.read_csv(filename,index_col=0)\n",
    "df.head()"
   ]
  },
  {
   "cell_type": "code",
   "execution_count": 4,
   "metadata": {},
   "outputs": [],
   "source": [
    "df['embeddings'] = df['embeddings'].apply(lambda x:np.array([float(a) for a in x[2:-1].split()]))"
   ]
  },
  {
   "cell_type": "code",
   "execution_count": 5,
   "metadata": {},
   "outputs": [],
   "source": [
    "from sentence_transformers import SentenceTransformer"
   ]
  },
  {
   "cell_type": "code",
   "execution_count": 6,
   "metadata": {},
   "outputs": [],
   "source": [
    "from sentence_transformers import SentenceTransformer\n",
    "\n",
    "model_name = 'sentence-transformers/paraphrase-multilingual-mpnet-base-v2'\n",
    "max_seq_length = 128\n",
    "\n",
    "# Create the model with CPU\n",
    "# model = SentenceTransformer(model_name, device='cpu')\n",
    "model = SentenceTransformer(model_name, device='cuda')\n",
    "model.max_seq_length = max_seq_length\n"
   ]
  },
  {
   "cell_type": "code",
   "execution_count": 7,
   "metadata": {},
   "outputs": [
    {
     "name": "stdout",
     "output_type": "stream",
     "text": [
      "file_query_map.csv\n",
      "labeled_transcript_01.csv\n"
     ]
    },
    {
     "data": {
      "application/vnd.jupyter.widget-view+json": {
       "model_id": "02eade37cdf04bdd899f9f4780cb7361",
       "version_major": 2,
       "version_minor": 0
      },
      "text/plain": [
       "Batches:   0%|          | 0/5 [00:00<?, ?it/s]"
      ]
     },
     "metadata": {},
     "output_type": "display_data"
    },
    {
     "name": "stdout",
     "output_type": "stream",
     "text": [
      "labeled_transcript_02.csv\n"
     ]
    },
    {
     "data": {
      "application/vnd.jupyter.widget-view+json": {
       "model_id": "908a5c99964b4df2b07c304c1b0efc65",
       "version_major": 2,
       "version_minor": 0
      },
      "text/plain": [
       "Batches:   0%|          | 0/5 [00:00<?, ?it/s]"
      ]
     },
     "metadata": {},
     "output_type": "display_data"
    },
    {
     "name": "stdout",
     "output_type": "stream",
     "text": [
      "labeled_transcript_03.csv\n"
     ]
    },
    {
     "data": {
      "application/vnd.jupyter.widget-view+json": {
       "model_id": "0c3b6e32134e4d548568fde150158fec",
       "version_major": 2,
       "version_minor": 0
      },
      "text/plain": [
       "Batches:   0%|          | 0/4 [00:00<?, ?it/s]"
      ]
     },
     "metadata": {},
     "output_type": "display_data"
    },
    {
     "name": "stdout",
     "output_type": "stream",
     "text": [
      "labeled_transcript_04.csv\n"
     ]
    },
    {
     "data": {
      "application/vnd.jupyter.widget-view+json": {
       "model_id": "30f507cc9d4949d5bee73b25ba2a9ac2",
       "version_major": 2,
       "version_minor": 0
      },
      "text/plain": [
       "Batches:   0%|          | 0/7 [00:00<?, ?it/s]"
      ]
     },
     "metadata": {},
     "output_type": "display_data"
    },
    {
     "name": "stdout",
     "output_type": "stream",
     "text": [
      "labeled_transcript_05.csv\n"
     ]
    },
    {
     "data": {
      "application/vnd.jupyter.widget-view+json": {
       "model_id": "6ea94f537718400ebd6a435dd19ed849",
       "version_major": 2,
       "version_minor": 0
      },
      "text/plain": [
       "Batches:   0%|          | 0/5 [00:00<?, ?it/s]"
      ]
     },
     "metadata": {},
     "output_type": "display_data"
    },
    {
     "name": "stdout",
     "output_type": "stream",
     "text": [
      "labeled_transcript_06.csv\n"
     ]
    },
    {
     "data": {
      "application/vnd.jupyter.widget-view+json": {
       "model_id": "5ac19a573b1b4200b4a813c7eb45ecfe",
       "version_major": 2,
       "version_minor": 0
      },
      "text/plain": [
       "Batches:   0%|          | 0/7 [00:00<?, ?it/s]"
      ]
     },
     "metadata": {},
     "output_type": "display_data"
    },
    {
     "name": "stdout",
     "output_type": "stream",
     "text": [
      "labeled_transcript_07.csv\n"
     ]
    },
    {
     "data": {
      "application/vnd.jupyter.widget-view+json": {
       "model_id": "009d3866a7554853bb7040c4c4c4dfd2",
       "version_major": 2,
       "version_minor": 0
      },
      "text/plain": [
       "Batches:   0%|          | 0/6 [00:00<?, ?it/s]"
      ]
     },
     "metadata": {},
     "output_type": "display_data"
    },
    {
     "name": "stdout",
     "output_type": "stream",
     "text": [
      "labeled_transcript_08.csv\n"
     ]
    },
    {
     "data": {
      "application/vnd.jupyter.widget-view+json": {
       "model_id": "690ac5cc6ed34452ba95656286385d0c",
       "version_major": 2,
       "version_minor": 0
      },
      "text/plain": [
       "Batches:   0%|          | 0/5 [00:00<?, ?it/s]"
      ]
     },
     "metadata": {},
     "output_type": "display_data"
    },
    {
     "name": "stdout",
     "output_type": "stream",
     "text": [
      "labeled_transcript_09.csv\n"
     ]
    },
    {
     "data": {
      "application/vnd.jupyter.widget-view+json": {
       "model_id": "38123685868148619e0c9360645caef4",
       "version_major": 2,
       "version_minor": 0
      },
      "text/plain": [
       "Batches:   0%|          | 0/4 [00:00<?, ?it/s]"
      ]
     },
     "metadata": {},
     "output_type": "display_data"
    }
   ],
   "source": [
    "d = 768\n",
    "i=1\n",
    "for file in os.listdir(f'./data/labeled'):\n",
    "    print(file)\n",
    "    if \"transcript\" not in file:\n",
    "        continue\n",
    "    filename = f\"./data/labeled/{file}\"\n",
    "    df = pd.read_csv(filename, index_col=0)\n",
    "    corpus_embeddings = df['text']\n",
    "    corpus_embeddings = model.encode(\n",
    "        corpus_embeddings, convert_to_tensor=False, show_progress_bar=True\n",
    "        )\n",
    "    df['embeddings'] = list(corpus_embeddings)\n",
    "    index = faiss.IndexFlatL2(d)\n",
    "    index.add(np.stack(df['embeddings'].to_numpy()))\n",
    "    write_index(index, f\"./data/faiss/t{i}.index\")\n",
    "    i+=1\n"
   ]
  },
  {
   "cell_type": "code",
   "execution_count": 8,
   "metadata": {},
   "outputs": [],
   "source": [
    "# d = 768\n",
    "# start_time = time.time()\n",
    "# index = faiss.IndexFlatL2(d)\n",
    "# # print(index.is_trained)\n",
    "# index.add(np.stack(df['embeddings'].to_numpy()))\n",
    "# end_time = time.time()\n",
    "# print(end_time-start_time)\n",
    "# print(index.ntotal)"
   ]
  },
  {
   "cell_type": "code",
   "execution_count": 9,
   "metadata": {},
   "outputs": [
    {
     "data": {
      "text/plain": [
       "False"
      ]
     },
     "execution_count": 9,
     "metadata": {},
     "output_type": "execute_result"
    }
   ],
   "source": [
    "model.to(\"cpu\")\n",
    "next(model.parameters()).is_cuda"
   ]
  },
  {
   "cell_type": "code",
   "execution_count": 10,
   "metadata": {},
   "outputs": [
    {
     "data": {
      "text/html": [
       "<div>\n",
       "<style scoped>\n",
       "    .dataframe tbody tr th:only-of-type {\n",
       "        vertical-align: middle;\n",
       "    }\n",
       "\n",
       "    .dataframe tbody tr th {\n",
       "        vertical-align: top;\n",
       "    }\n",
       "\n",
       "    .dataframe thead th {\n",
       "        text-align: right;\n",
       "    }\n",
       "</style>\n",
       "<table border=\"1\" class=\"dataframe\">\n",
       "  <thead>\n",
       "    <tr style=\"text-align: right;\">\n",
       "      <th></th>\n",
       "      <th>file</th>\n",
       "      <th>query_type</th>\n",
       "      <th>query</th>\n",
       "    </tr>\n",
       "  </thead>\n",
       "  <tbody>\n",
       "    <tr>\n",
       "      <th>0</th>\n",
       "      <td>labeled_transcript_01.csv</td>\n",
       "      <td>keyword</td>\n",
       "      <td>linear program</td>\n",
       "    </tr>\n",
       "    <tr>\n",
       "      <th>1</th>\n",
       "      <td>labeled_transcript_01.csv</td>\n",
       "      <td>keyword</td>\n",
       "      <td>Assumption of linear program</td>\n",
       "    </tr>\n",
       "    <tr>\n",
       "      <th>2</th>\n",
       "      <td>labeled_transcript_01.csv</td>\n",
       "      <td>keyword</td>\n",
       "      <td>standard form of linear program</td>\n",
       "    </tr>\n",
       "    <tr>\n",
       "      <th>3</th>\n",
       "      <td>labeled_transcript_01.csv</td>\n",
       "      <td>keyword</td>\n",
       "      <td>basic feasible solution</td>\n",
       "    </tr>\n",
       "    <tr>\n",
       "      <th>4</th>\n",
       "      <td>labeled_transcript_01.csv</td>\n",
       "      <td>keyword</td>\n",
       "      <td>direction of unboundedness</td>\n",
       "    </tr>\n",
       "  </tbody>\n",
       "</table>\n",
       "</div>"
      ],
      "text/plain": [
       "                        file query_type                            query\n",
       "0  labeled_transcript_01.csv    keyword                   linear program\n",
       "1  labeled_transcript_01.csv    keyword     Assumption of linear program\n",
       "2  labeled_transcript_01.csv    keyword  standard form of linear program\n",
       "3  labeled_transcript_01.csv    keyword          basic feasible solution\n",
       "4  labeled_transcript_01.csv    keyword       direction of unboundedness"
      ]
     },
     "execution_count": 10,
     "metadata": {},
     "output_type": "execute_result"
    }
   ],
   "source": [
    "file_query_map_df = pd.read_csv(\"./data/labeled/file_query_map.csv\")\n",
    "file_query_map_df.head()"
   ]
  },
  {
   "cell_type": "code",
   "execution_count": 11,
   "metadata": {},
   "outputs": [
    {
     "name": "stdout",
     "output_type": "stream",
     "text": [
      "1\n",
      "2\n",
      "3\n",
      "4\n",
      "5\n",
      "6\n",
      "7\n",
      "8\n",
      "9\n"
     ]
    }
   ],
   "source": [
    "search_time = []\n",
    "for file in os.listdir(f'./data/labeled'):\n",
    "    if \"transcript\" not in file:\n",
    "        continue\n",
    "    filename = f\"./data/labeled/{file}\"\n",
    "    id = file[-5:-4]\n",
    "    print(id)\n",
    "    for query in file_query_map_df.loc[file_query_map_df.file==file, \"query\"].tolist():\n",
    "        start_time = time.time_ns()\n",
    "        query_embedding = model.encode([query], convert_to_tensor=False)\n",
    "        index = read_index(f\"./data/faiss/t{id}.index\")\n",
    "        \n",
    "        k = 10\n",
    "        D, I = index.search(query_embedding, k)\n",
    "        end_time = time.time_ns()\n",
    "        search_time.append((end_time-start_time)/1e9)"
   ]
  },
  {
   "cell_type": "code",
   "execution_count": 12,
   "metadata": {},
   "outputs": [
    {
     "data": {
      "text/plain": [
       "0.16197368444444443"
      ]
     },
     "execution_count": 12,
     "metadata": {},
     "output_type": "execute_result"
    }
   ],
   "source": [
    "np.mean(search_time)"
   ]
  },
  {
   "cell_type": "code",
   "execution_count": 14,
   "metadata": {},
   "outputs": [],
   "source": [
    "# df = pd.read_csv(f\"./data/labeled/labeled_transcript_02.csv\", index_col=0)"
   ]
  },
  {
   "cell_type": "code",
   "execution_count": 44,
   "metadata": {},
   "outputs": [
    {
     "name": "stdout",
     "output_type": "stream",
     "text": [
      "1\n",
      "2\n",
      "3\n",
      "4\n",
      "5\n",
      "6\n",
      "7\n",
      "8\n",
      "9\n"
     ]
    }
   ],
   "source": [
    "search_time = []\n",
    "fields = [\n",
    "    \"text\",\n",
    "    \"start_time\",\n",
    "    \"stop_time\",\n",
    "]\n",
    "\n",
    "\n",
    "for file in os.listdir(f\"./data/labeled\"):\n",
    "    if \"transcript\" not in file:\n",
    "        continue\n",
    "    filename = f\"./data/labeled/{file}\"\n",
    "    id = file[-5:-4]\n",
    "    print(id)\n",
    "    for query in file_query_map_df.loc[\n",
    "        file_query_map_df.file == file, \"query\"\n",
    "    ].tolist():\n",
    "        labeled_df = pd.read_csv(\n",
    "            f\"./data/labeled/labeled_transcript_0{id}.csv\", index_col=0, usecols=fields\n",
    "        )\n",
    "        start_time = time.time_ns()\n",
    "        query_embedding = model.encode([query], convert_to_tensor=False)\n",
    "        index = read_index(f\"./data/faiss/t{id}.index\")\n",
    "        k = 10\n",
    "        D, I = index.search(query_embedding, k)\n",
    "\n",
    "\n",
    "        search_index_list = I[0].tolist()\n",
    "        search_result = labeled_df.iloc[search_index_list]\n",
    "        search_result_start_time = search_result[\"start_time\"]\n",
    "\n",
    "        end_time = time.time_ns()\n",
    "        search_time.append((end_time - start_time) / 1e9)"
   ]
  },
  {
   "cell_type": "code",
   "execution_count": 45,
   "metadata": {},
   "outputs": [
    {
     "data": {
      "text/plain": [
       "0.12775799888888886"
      ]
     },
     "execution_count": 45,
     "metadata": {},
     "output_type": "execute_result"
    }
   ],
   "source": [
    "np.mean(search_time)"
   ]
  },
  {
   "cell_type": "code",
   "execution_count": 47,
   "metadata": {},
   "outputs": [
    {
     "data": {
      "text/plain": [
       "0.13076044799999997"
      ]
     },
     "execution_count": 47,
     "metadata": {},
     "output_type": "execute_result"
    }
   ],
   "source": [
    "x = [\n",
    "0.14787364888888888,\n",
    "0.1384574322222222,\n",
    "0.13446970666666666,\n",
    "0.10524345333333333,\n",
    "0.12775799888888886,\n",
    "]\n",
    "np.mean(x)"
   ]
  },
  {
   "cell_type": "code",
   "execution_count": 48,
   "metadata": {},
   "outputs": [],
   "source": [
    "# mean search time (not map transcript) (sec) (avg=0.11621410822222225)\n",
    "# 0.14588159333333334\n",
    "# 0.11387941000000001\n",
    "# 0.11385797555555559\n",
    "# 0.11219363555555556\n",
    "# 0.09525792666666667\n",
    "\n",
    "# mean search time (map transcript, read dataframe every query) (sec) (avg=0.18186827533333333)\n",
    "# 0.20160134555555556\n",
    "# 0.1354372033333333\n",
    "# 0.1557293311111111\n",
    "# 0.2020292477777778\n",
    "# 0.2145442488888889\n",
    "\n",
    "# mean search time (map transcript, dataframe already in memory) (sec) (avg=0.13076044799999997)\n",
    "# 0.14787364888888888\n",
    "# 0.1384574322222222\n",
    "# 0.13446970666666666\n",
    "# 0.10524345333333333\n",
    "# 0.12775799888888886"
   ]
  }
 ],
 "metadata": {
  "kernelspec": {
   "display_name": "pytorch",
   "language": "python",
   "name": "python3"
  },
  "language_info": {
   "codemirror_mode": {
    "name": "ipython",
    "version": 3
   },
   "file_extension": ".py",
   "mimetype": "text/x-python",
   "name": "python",
   "nbconvert_exporter": "python",
   "pygments_lexer": "ipython3",
   "version": "3.10.14"
  }
 },
 "nbformat": 4,
 "nbformat_minor": 2
}
